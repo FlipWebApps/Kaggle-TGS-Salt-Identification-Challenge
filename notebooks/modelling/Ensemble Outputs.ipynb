{
 "cells": [
  {
   "cell_type": "markdown",
   "metadata": {},
   "source": [
    "# Kaggle TGS Salt Identification Challenge Ensemble Outputs\n",
    "\n",
    "Ensemble the outputs of multiple submission files"
   ]
  },
  {
   "cell_type": "markdown",
   "metadata": {},
   "source": [
    "## Setup"
   ]
  },
  {
   "cell_type": "code",
   "execution_count": 1,
   "metadata": {},
   "outputs": [],
   "source": [
    "import os\n",
    "import sys\n",
    "\n",
    "from functools import reduce\n",
    "import matplotlib.pyplot as plt\n",
    "import numpy as np\n",
    "import pandas as pd\n",
    "from skimage.io import imread, imsave\n",
    "from skimage.color import gray2rgb\n",
    "from skimage.color import rgb2gray"
   ]
  },
  {
   "cell_type": "markdown",
   "metadata": {},
   "source": [
    "Setup some global settings and configuration"
   ]
  },
  {
   "cell_type": "code",
   "execution_count": 2,
   "metadata": {},
   "outputs": [],
   "source": [
    "project_root = os.path.abspath(os.path.join(os.getcwd(), os.pardir, os.pardir))\n",
    "data_folder = os.path.join(project_root, 'data')\n",
    "data_folder_raw = os.path.join(data_folder, 'raw')\n",
    "data_folder_submissions = os.path.join(data_folder, 'submissions')\n",
    "src_folder = os.path.join(project_root, 'src')"
   ]
  },
  {
   "cell_type": "markdown",
   "metadata": {},
   "source": [
    "This notebook uses the shared package however first we need to ensure it is available (otherwise you get an error about the module not being found). You can either run setup.py as discussed in the readme to install the package or modify the path to include the src folder."
   ]
  },
  {
   "cell_type": "code",
   "execution_count": 3,
   "metadata": {},
   "outputs": [],
   "source": [
    "# Explicitly set path so don't need to run setup.py - if we have multiple copies of \n",
    "# the code we would otherwise need to setup a seperate environment for each to\n",
    "# ensure the code pointers are correct.\n",
    "sys.path.insert(0, src_folder)\n",
    "\n",
    "from tgssalt_challenge.submission import rle_decode, ensemble_rle_submissions"
   ]
  },
  {
   "cell_type": "markdown",
   "metadata": {},
   "source": [
    "## Ensemble the data"
   ]
  },
  {
   "cell_type": "code",
   "execution_count": 4,
   "metadata": {},
   "outputs": [],
   "source": [
    "submission_files = [os.path.join(data_folder_submissions, x) for x in \n",
    "                    ['Unet_resnet_v5 (1).csv', \n",
    "                     'Unet_resnet_v5.csv', \n",
    "                     'unet_crf (0.774).csv']]\n",
    "ensemble_threshold = 2"
   ]
  },
  {
   "cell_type": "code",
   "execution_count": 5,
   "metadata": {
    "scrolled": true
   },
   "outputs": [],
   "source": [
    "ensemble, all_data = ensemble_rle_submissions(submission_files, ensemble_threshold)"
   ]
  },
  {
   "cell_type": "code",
   "execution_count": 6,
   "metadata": {},
   "outputs": [
    {
     "data": {
      "text/html": [
       "<div>\n",
       "<style scoped>\n",
       "    .dataframe tbody tr th:only-of-type {\n",
       "        vertical-align: middle;\n",
       "    }\n",
       "\n",
       "    .dataframe tbody tr th {\n",
       "        vertical-align: top;\n",
       "    }\n",
       "\n",
       "    .dataframe thead th {\n",
       "        text-align: right;\n",
       "    }\n",
       "</style>\n",
       "<table border=\"1\" class=\"dataframe\">\n",
       "  <thead>\n",
       "    <tr style=\"text-align: right;\">\n",
       "      <th></th>\n",
       "      <th>id</th>\n",
       "      <th>rle_mask</th>\n",
       "    </tr>\n",
       "  </thead>\n",
       "  <tbody>\n",
       "    <tr>\n",
       "      <th>0</th>\n",
       "      <td>353e010b7b</td>\n",
       "      <td>NaN</td>\n",
       "    </tr>\n",
       "    <tr>\n",
       "      <th>1</th>\n",
       "      <td>5439dbbddf</td>\n",
       "      <td>NaN</td>\n",
       "    </tr>\n",
       "    <tr>\n",
       "      <th>2</th>\n",
       "      <td>71bab9f311</td>\n",
       "      <td>NaN</td>\n",
       "    </tr>\n",
       "    <tr>\n",
       "      <th>3</th>\n",
       "      <td>52551f7a80</td>\n",
       "      <td>NaN</td>\n",
       "    </tr>\n",
       "    <tr>\n",
       "      <th>4</th>\n",
       "      <td>512d8d9997</td>\n",
       "      <td>1 34 94 42 195 42 295 43 396 43 496 45 596 46 ...</td>\n",
       "    </tr>\n",
       "    <tr>\n",
       "      <th>5</th>\n",
       "      <td>64dba827d6</td>\n",
       "      <td>NaN</td>\n",
       "    </tr>\n",
       "    <tr>\n",
       "      <th>6</th>\n",
       "      <td>0a3a8a5f37</td>\n",
       "      <td>NaN</td>\n",
       "    </tr>\n",
       "    <tr>\n",
       "      <th>7</th>\n",
       "      <td>329563756f</td>\n",
       "      <td>1 9077 9084 89 9190 1 9192 78 9293 74 9394 71 ...</td>\n",
       "    </tr>\n",
       "    <tr>\n",
       "      <th>8</th>\n",
       "      <td>f6cba2e890</td>\n",
       "      <td>NaN</td>\n",
       "    </tr>\n",
       "    <tr>\n",
       "      <th>9</th>\n",
       "      <td>989c646373</td>\n",
       "      <td>368 1 467 1 469 5 475 1 477 1 570 5 576 1 580 ...</td>\n",
       "    </tr>\n",
       "  </tbody>\n",
       "</table>\n",
       "</div>"
      ],
      "text/plain": [
       "           id                                           rle_mask\n",
       "0  353e010b7b                                                NaN\n",
       "1  5439dbbddf                                                NaN\n",
       "2  71bab9f311                                                NaN\n",
       "3  52551f7a80                                                NaN\n",
       "4  512d8d9997  1 34 94 42 195 42 295 43 396 43 496 45 596 46 ...\n",
       "5  64dba827d6                                                NaN\n",
       "6  0a3a8a5f37                                                NaN\n",
       "7  329563756f  1 9077 9084 89 9190 1 9192 78 9293 74 9394 71 ...\n",
       "8  f6cba2e890                                                NaN\n",
       "9  989c646373  368 1 467 1 469 5 475 1 477 1 570 5 576 1 580 ..."
      ]
     },
     "execution_count": 6,
     "metadata": {},
     "output_type": "execute_result"
    }
   ],
   "source": [
    "ensemble.head(10)"
   ]
  },
  {
   "cell_type": "code",
   "execution_count": 7,
   "metadata": {},
   "outputs": [
    {
     "data": {
      "text/html": [
       "<div>\n",
       "<style scoped>\n",
       "    .dataframe tbody tr th:only-of-type {\n",
       "        vertical-align: middle;\n",
       "    }\n",
       "\n",
       "    .dataframe tbody tr th {\n",
       "        vertical-align: top;\n",
       "    }\n",
       "\n",
       "    .dataframe thead th {\n",
       "        text-align: right;\n",
       "    }\n",
       "</style>\n",
       "<table border=\"1\" class=\"dataframe\">\n",
       "  <thead>\n",
       "    <tr style=\"text-align: right;\">\n",
       "      <th></th>\n",
       "      <th>id</th>\n",
       "      <th>rle_mask_0</th>\n",
       "      <th>rle_mask_1</th>\n",
       "      <th>rle_mask_2</th>\n",
       "    </tr>\n",
       "  </thead>\n",
       "  <tbody>\n",
       "    <tr>\n",
       "      <th>0</th>\n",
       "      <td>353e010b7b</td>\n",
       "      <td>NaN</td>\n",
       "      <td>NaN</td>\n",
       "      <td>NaN</td>\n",
       "    </tr>\n",
       "    <tr>\n",
       "      <th>1</th>\n",
       "      <td>5439dbbddf</td>\n",
       "      <td>NaN</td>\n",
       "      <td>NaN</td>\n",
       "      <td>NaN</td>\n",
       "    </tr>\n",
       "    <tr>\n",
       "      <th>2</th>\n",
       "      <td>71bab9f311</td>\n",
       "      <td>NaN</td>\n",
       "      <td>NaN</td>\n",
       "      <td>NaN</td>\n",
       "    </tr>\n",
       "    <tr>\n",
       "      <th>3</th>\n",
       "      <td>52551f7a80</td>\n",
       "      <td>NaN</td>\n",
       "      <td>NaN</td>\n",
       "      <td>NaN</td>\n",
       "    </tr>\n",
       "    <tr>\n",
       "      <th>4</th>\n",
       "      <td>512d8d9997</td>\n",
       "      <td>1 4 102 5 203 5 304 6 405 7 506 7 607 8 708 8 ...</td>\n",
       "      <td>1 33 102 33 203 32 304 32 405 32 506 32 607 32...</td>\n",
       "      <td>1 23 102 25 203 25 304 25 405 25 506 25 607 24...</td>\n",
       "    </tr>\n",
       "    <tr>\n",
       "      <th>5</th>\n",
       "      <td>64dba827d6</td>\n",
       "      <td>NaN</td>\n",
       "      <td>NaN</td>\n",
       "      <td>NaN</td>\n",
       "    </tr>\n",
       "    <tr>\n",
       "      <th>6</th>\n",
       "      <td>0a3a8a5f37</td>\n",
       "      <td>NaN</td>\n",
       "      <td>NaN</td>\n",
       "      <td>NaN</td>\n",
       "    </tr>\n",
       "    <tr>\n",
       "      <th>7</th>\n",
       "      <td>329563756f</td>\n",
       "      <td>1 5150 5152 100 5253 98 5354 98 5455 98 5556 9...</td>\n",
       "      <td>1 5453 5455 99 5556 98 5657 98 5758 97 5859 97...</td>\n",
       "      <td>1 5352 5354 99 5455 98 5556 98 5657 97 5758 97...</td>\n",
       "    </tr>\n",
       "    <tr>\n",
       "      <th>8</th>\n",
       "      <td>f6cba2e890</td>\n",
       "      <td>NaN</td>\n",
       "      <td>NaN</td>\n",
       "      <td>NaN</td>\n",
       "    </tr>\n",
       "    <tr>\n",
       "      <th>9</th>\n",
       "      <td>989c646373</td>\n",
       "      <td>368 1 467 1 469 5 475 1 477 1 570 5 576 1 580 ...</td>\n",
       "      <td>NaN</td>\n",
       "      <td>NaN</td>\n",
       "    </tr>\n",
       "  </tbody>\n",
       "</table>\n",
       "</div>"
      ],
      "text/plain": [
       "           id                                         rle_mask_0  \\\n",
       "0  353e010b7b                                                NaN   \n",
       "1  5439dbbddf                                                NaN   \n",
       "2  71bab9f311                                                NaN   \n",
       "3  52551f7a80                                                NaN   \n",
       "4  512d8d9997  1 4 102 5 203 5 304 6 405 7 506 7 607 8 708 8 ...   \n",
       "5  64dba827d6                                                NaN   \n",
       "6  0a3a8a5f37                                                NaN   \n",
       "7  329563756f  1 5150 5152 100 5253 98 5354 98 5455 98 5556 9...   \n",
       "8  f6cba2e890                                                NaN   \n",
       "9  989c646373  368 1 467 1 469 5 475 1 477 1 570 5 576 1 580 ...   \n",
       "\n",
       "                                          rle_mask_1  \\\n",
       "0                                                NaN   \n",
       "1                                                NaN   \n",
       "2                                                NaN   \n",
       "3                                                NaN   \n",
       "4  1 33 102 33 203 32 304 32 405 32 506 32 607 32...   \n",
       "5                                                NaN   \n",
       "6                                                NaN   \n",
       "7  1 5453 5455 99 5556 98 5657 98 5758 97 5859 97...   \n",
       "8                                                NaN   \n",
       "9                                                NaN   \n",
       "\n",
       "                                          rle_mask_2  \n",
       "0                                                NaN  \n",
       "1                                                NaN  \n",
       "2                                                NaN  \n",
       "3                                                NaN  \n",
       "4  1 23 102 25 203 25 304 25 405 25 506 25 607 24...  \n",
       "5                                                NaN  \n",
       "6                                                NaN  \n",
       "7  1 5352 5354 99 5455 98 5556 98 5657 97 5758 97...  \n",
       "8                                                NaN  \n",
       "9                                                NaN  "
      ]
     },
     "execution_count": 7,
     "metadata": {},
     "output_type": "execute_result"
    }
   ],
   "source": [
    "all_data.head(10)"
   ]
  },
  {
   "cell_type": "code",
   "execution_count": 8,
   "metadata": {},
   "outputs": [],
   "source": [
    "ensemble.to_csv(os.path.join(data_folder_submissions,'ensemble.csv'),index=False)"
   ]
  },
  {
   "cell_type": "markdown",
   "metadata": {},
   "source": [
    "## Visualise sample output"
   ]
  },
  {
   "cell_type": "code",
   "execution_count": 9,
   "metadata": {},
   "outputs": [
    {
     "data": {
      "image/png": "[encoded data removed]",
      "text/plain": [
       "<Figure size 1800x864 with 7 Axes>"
      ]
     },
     "metadata": {},
     "output_type": "display_data"
    }
   ],
   "source": [
    "i = 0\n",
    "plt.figure(figsize=(25,12))\n",
    "plt.subplots_adjust(bottom=0.3, top=0.9, hspace=0.3) \n",
    "j = 0\n",
    "while True:\n",
    "    if str(ensemble.loc[i,'rle_mask'])!=str(np.nan):        \n",
    "        decoded_mask = rle_decode(ensemble.loc[i,'rle_mask'])\n",
    "        plt.subplot(1,7,j+1)\n",
    "        plt.imshow(decoded_mask)\n",
    "        plt.title(' ID: '+ ensemble.loc[i,'id'])\n",
    "        j = j + 1\n",
    "        if j > 6:\n",
    "            break\n",
    "    i = i + 1"
   ]
  }
 ],
 "metadata": {
  "kernelspec": {
   "display_name": "Python 3",
   "language": "python",
   "name": "python3"
  },
  "language_info": {
   "codemirror_mode": {
    "name": "ipython",
    "version": 3
   },
   "file_extension": ".py",
   "mimetype": "text/x-python",
   "name": "python",
   "nbconvert_exporter": "python",
   "pygments_lexer": "ipython3",
   "version": "3.6.5"
  }
 },
 "nbformat": 4,
 "nbformat_minor": 2
}
